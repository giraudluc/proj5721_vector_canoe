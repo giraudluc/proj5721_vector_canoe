{
 "cells": [
  {
   "cell_type": "code",
   "execution_count": null,
   "metadata": {},
   "outputs": [],
   "source": [
    "import sys, os\n",
    "import time \n",
    "import importlib \n",
    "\n",
    "sys.path.append(\"../Sources\")\n",
    "import VectorCanoe\n",
    "importlib.reload(VectorCanoe)\n",
    "from VectorCanoe import *"
   ]
  },
  {
   "cell_type": "code",
   "execution_count": null,
   "metadata": {},
   "outputs": [],
   "source": [
    "myCanoe = Canoe()\n",
    "ok = myCanoe.isMeasurementRunning()\n",
    "print(ok)"
   ]
  },
  {
   "cell_type": "code",
   "execution_count": 7,
   "metadata": {},
   "outputs": [],
   "source": [
    "App = myCanoe.getApplication()"
   ]
  }
 ],
 "metadata": {
  "kernelspec": {
   "display_name": "base",
   "language": "python",
   "name": "python3"
  },
  "language_info": {
   "codemirror_mode": {
    "name": "ipython",
    "version": 3
   },
   "file_extension": ".py",
   "mimetype": "text/x-python",
   "name": "python",
   "nbconvert_exporter": "python",
   "pygments_lexer": "ipython3",
   "version": "3.9.18"
  },
  "orig_nbformat": 4,
  "vscode": {
   "interpreter": {
    "hash": "98f8954c61db934879aa9ac91818170d0b3b2ffd781f63863130c4410ff50044"
   }
  }
 },
 "nbformat": 4,
 "nbformat_minor": 2
}
