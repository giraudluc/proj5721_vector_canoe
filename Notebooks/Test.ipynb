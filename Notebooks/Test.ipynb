{
 "cells": [
  {
   "cell_type": "code",
   "execution_count": 21,
   "metadata": {},
   "outputs": [],
   "source": [
    "import sys, os\n",
    "import time \n",
    "\n",
    "sys.path.append(\"../Sources\")\n",
    "from VectorCanoe import *\n"
   ]
  },
  {
   "cell_type": "code",
   "execution_count": 22,
   "metadata": {},
   "outputs": [
    {
     "name": "stdout",
     "output_type": "stream",
     "text": [
      "True\n",
      "['var1', 'Button1', 'var2', 'State1']\n"
     ]
    }
   ],
   "source": [
    "myCanoe = Canoe()\n",
    "ok = myCanoe.isMeasurementRunning()\n",
    "print(ok)\n",
    "sv = myCanoe.listSystemVariables(\"Test\")\n",
    "print(sv)"
   ]
  },
  {
   "cell_type": "code",
   "execution_count": 23,
   "metadata": {},
   "outputs": [],
   "source": [
    "var1 = SystemVariable(myCanoe, \"Test\", \"var1\")\n",
    "var2 = SystemVariable(myCanoe, \"Test\", \"var2\")\n",
    "button1 = SystemVariable(myCanoe, \"Test\", \"button1\")\n",
    "state1 = SystemVariable(myCanoe, \"Test\", \"State1\")"
   ]
  },
  {
   "cell_type": "code",
   "execution_count": 26,
   "metadata": {},
   "outputs": [
    {
     "data": {
      "text/plain": [
       "2"
      ]
     },
     "execution_count": 26,
     "metadata": {},
     "output_type": "execute_result"
    }
   ],
   "source": [
    "var1.set(2)\n",
    "time.sleep(0.1)\n",
    "var1.get()"
   ]
  },
  {
   "cell_type": "code",
   "execution_count": 25,
   "metadata": {},
   "outputs": [
    {
     "data": {
      "text/plain": [
       "3"
      ]
     },
     "execution_count": 25,
     "metadata": {},
     "output_type": "execute_result"
    }
   ],
   "source": [
    "var2.set(3)\n",
    "time.sleep(0.1)\n",
    "var2.get()"
   ]
  },
  {
   "cell_type": "code",
   "execution_count": 20,
   "metadata": {},
   "outputs": [
    {
     "data": {
      "text/plain": [
       "1"
      ]
     },
     "execution_count": 20,
     "metadata": {},
     "output_type": "execute_result"
    }
   ],
   "source": [
    "state1.set(1)\n",
    "time.sleep(0.1)\n",
    "state1.get()"
   ]
  },
  {
   "cell_type": "code",
   "execution_count": null,
   "metadata": {},
   "outputs": [],
   "source": [
    "button1.set(1)\n",
    "time.sleep(0.1)\n",
    "button1.set(0)"
   ]
  }
 ],
 "metadata": {
  "kernelspec": {
   "display_name": "base",
   "language": "python",
   "name": "python3"
  },
  "language_info": {
   "codemirror_mode": {
    "name": "ipython",
    "version": 3
   },
   "file_extension": ".py",
   "mimetype": "text/x-python",
   "name": "python",
   "nbconvert_exporter": "python",
   "pygments_lexer": "ipython3",
   "version": "3.9.18"
  },
  "orig_nbformat": 4,
  "vscode": {
   "interpreter": {
    "hash": "98f8954c61db934879aa9ac91818170d0b3b2ffd781f63863130c4410ff50044"
   }
  }
 },
 "nbformat": 4,
 "nbformat_minor": 2
}
